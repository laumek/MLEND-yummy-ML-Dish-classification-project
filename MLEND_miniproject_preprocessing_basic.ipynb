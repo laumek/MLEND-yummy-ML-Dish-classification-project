{
  "cells": [
    {
      "cell_type": "markdown",
      "metadata": {
        "id": "view-in-github",
        "colab_type": "text"
      },
      "source": [
        "<a href=\"https://colab.research.google.com/github/laumek/MLEND-yummy-ML-Dish-classification-project/blob/main/MLEND_miniproject_preprocessing_basic.ipynb\" target=\"_parent\"><img src=\"https://colab.research.google.com/assets/colab-badge.svg\" alt=\"Open In Colab\"/></a>"
      ]
    },
    {
      "cell_type": "markdown",
      "id": "2268a3f4-5b28-430f-a8ba-995c53fb55f6",
      "metadata": {
        "id": "2268a3f4-5b28-430f-a8ba-995c53fb55f6"
      },
      "source": [
        "# ECS7020P mini-project - basic part"
      ]
    },
    {
      "cell_type": "markdown",
      "id": "5d4decbe-8062-4c96-a5e6-6be54707187e",
      "metadata": {
        "id": "5d4decbe-8062-4c96-a5e6-6be54707187e"
      },
      "source": [
        "# 1 Problem formulation\n",
        "\n",
        "For this component of the coursework, a machine learning pipeline needs to be built to take as an input a photo of a dish that has either rice or chips and as output a prediction on whether the picture has rice or chips. This is interesting because it allows us to explore the concept of data preparation and feature operations (selection, extraction, etc.) on raw images informations, and their impacts on the quality of the model."
      ]
    },
    {
      "cell_type": "markdown",
      "id": "763a309e-16a5-40dd-aef3-1cd3706a7cfd",
      "metadata": {
        "id": "763a309e-16a5-40dd-aef3-1cd3706a7cfd"
      },
      "source": [
        "# 2 Transformation stage and Feature Extraction\n",
        "\n",
        "The built pipeline will involve a transformation of the images by resizing them, to ensure they are all processed the same.\n",
        "Then, two functions will be defined to retrieve 3 features, which we will for our models:\n",
        "\n",
        "- get_yellow_component: This function is tailored to extract statistical color moment features from yellow regions in RGB images, focusing on distinguishing between dishes with rice or chips. By using threshold values (t1 and t2) to define the yellow hue range, the function calculates the mean, variance, and skewness, determining the count of yellow pixels. This is particularly relevant in dish classification, where yellow is associated with specific ingredients or cooking styles, enhancing the accuracy of predictions.\n",
        "\n",
        "\n",
        "- GMLC_features: This function extracts Gray-Level Co-occurrence Matrix (GLCM) features from the grayscale version of an RGB image, prioritising texture information by eliminating color-related disparities. The dissimilarity and correlation features obtained offer insights into spatial relationships among pixel intensities. These texture features hold potential for discriminating between rice and chips, as distinctive textual patterns may exist in the two types of dishes.\n",
        "\n",
        "The resulting features will then be standardised using StandardScaler() and concatenated into a numpy array.\n"
      ]
    },
    {
      "cell_type": "code",
      "source": [
        "#Resizing\n",
        "\n",
        "def make_it_square(I, pad=0):\n",
        "    N, M, C = I.shape\n",
        "    if N > M:\n",
        "        Is = [np.pad(I[:, :, i], [(0, 0), (0, N - M)], 'constant', constant_values=pad) for i in range(C)]\n",
        "    else:\n",
        "        Is = [np.pad(I[:, :, i], [(0, M - N), (0, 0)], 'constant', constant_values=pad) for i in range(C)]\n",
        "    return np.array(Is).transpose([1, 2, 0])\n",
        "\n",
        "def resize_img(I, size=[200, 200]):\n",
        "    N, M, C = I.shape\n",
        "    Ir = [sp_transform.resize(I[:, :, i], size) for i in range(C)]\n",
        "    return np.array(Ir).transpose([1, 2, 0])"
      ],
      "metadata": {
        "id": "z_dZLhtMdLap"
      },
      "id": "z_dZLhtMdLap",
      "execution_count": 1,
      "outputs": []
    },
    {
      "cell_type": "code",
      "source": [
        "# Function to get the yellow component level of images\n",
        "def get_yellow_component(I,t1=27, t2=33):\n",
        "  Ihsv = (rgb2hsv(I)*255).astype('uint8')\n",
        "  mask = (Ihsv[:,:,0]<t2)*(Ihsv[:,:,0]>t1)\n",
        "  Ypx = mask.sum()\n",
        "  return Ypx\n",
        "\n",
        "#Function to get the gray-level co-occurence matrix of images\n",
        "\n",
        "def GMLC_features(I):\n",
        "  Ig = (rgb2gray(I)*255).astype('uint8')\n",
        "  glcm = graycomatrix(Ig, distances=[5], angles=[0], levels=256,\n",
        "                        symmetric=True, normed=True)\n",
        "  dissimilarity = graycoprops(glcm, 'dissimilarity')[0, 0]\n",
        "  correlation = graycoprops(glcm, 'correlation')[0, 0]\n",
        "  return dissimilarity, correlation"
      ],
      "metadata": {
        "id": "RdAoJYcfdQFT"
      },
      "id": "RdAoJYcfdQFT",
      "execution_count": 2,
      "outputs": []
    },
    {
      "cell_type": "markdown",
      "id": "f1e06052-ecca-4c97-832e-96f8c81b76f1",
      "metadata": {
        "id": "f1e06052-ecca-4c97-832e-96f8c81b76f1"
      },
      "source": [
        "# 3 Dataset\n"
      ]
    },
    {
      "cell_type": "markdown",
      "id": "080b9756-99be-4003-bb89-fbdde80f405a",
      "metadata": {
        "id": "080b9756-99be-4003-bb89-fbdde80f405a"
      },
      "source": [
        "In this section, the full Yummy dataset will be loaded and filtered to contain only images with rice or potato chips. Then a column 'Rice_or_chips' will be created, encoding 1 for rows containing rice and 0 for rows containing chips."
      ]
    },
    {
      "cell_type": "code",
      "execution_count": null,
      "id": "92f4cebe-a61e-429b-9d98-7d64f7d5da57",
      "metadata": {
        "colab": {
          "base_uri": "https://localhost:8080/"
        },
        "id": "92f4cebe-a61e-429b-9d98-7d64f7d5da57",
        "outputId": "fee98429-72da-4fd9-88ca-868d916d3c5c"
      },
      "outputs": [
        {
          "output_type": "stream",
          "name": "stdout",
          "text": [
            "Requirement already satisfied: mlend in /usr/local/lib/python3.10/dist-packages (1.0.0.3)\n",
            "Requirement already satisfied: numpy>1.8 in /usr/local/lib/python3.10/dist-packages (from mlend) (1.25.2)\n",
            "Requirement already satisfied: pandas in /usr/local/lib/python3.10/dist-packages (from mlend) (1.5.3)\n",
            "Requirement already satisfied: scipy in /usr/local/lib/python3.10/dist-packages (from mlend) (1.11.4)\n",
            "Requirement already satisfied: matplotlib in /usr/local/lib/python3.10/dist-packages (from mlend) (3.7.1)\n",
            "Requirement already satisfied: joblib in /usr/local/lib/python3.10/dist-packages (from mlend) (1.3.2)\n",
            "Requirement already satisfied: spkit>0.0.9.5 in /usr/local/lib/python3.10/dist-packages (from mlend) (0.0.9.6.7)\n",
            "Requirement already satisfied: scikit-learn in /usr/local/lib/python3.10/dist-packages (from spkit>0.0.9.5->mlend) (1.2.2)\n",
            "Requirement already satisfied: python-picard in /usr/local/lib/python3.10/dist-packages (from spkit>0.0.9.5->mlend) (0.7)\n",
            "Requirement already satisfied: PyWavelets in /usr/local/lib/python3.10/dist-packages (from spkit>0.0.9.5->mlend) (1.5.0)\n",
            "Requirement already satisfied: pylfsr in /usr/local/lib/python3.10/dist-packages (from spkit>0.0.9.5->mlend) (1.0.7)\n",
            "Requirement already satisfied: h5py in /usr/local/lib/python3.10/dist-packages (from spkit>0.0.9.5->mlend) (3.9.0)\n",
            "Requirement already satisfied: seaborn in /usr/local/lib/python3.10/dist-packages (from spkit>0.0.9.5->mlend) (0.13.1)\n",
            "Requirement already satisfied: phyaat in /usr/local/lib/python3.10/dist-packages (from spkit>0.0.9.5->mlend) (0.0.3)\n",
            "Requirement already satisfied: contourpy>=1.0.1 in /usr/local/lib/python3.10/dist-packages (from matplotlib->mlend) (1.2.0)\n",
            "Requirement already satisfied: cycler>=0.10 in /usr/local/lib/python3.10/dist-packages (from matplotlib->mlend) (0.12.1)\n",
            "Requirement already satisfied: fonttools>=4.22.0 in /usr/local/lib/python3.10/dist-packages (from matplotlib->mlend) (4.49.0)\n",
            "Requirement already satisfied: kiwisolver>=1.0.1 in /usr/local/lib/python3.10/dist-packages (from matplotlib->mlend) (1.4.5)\n",
            "Requirement already satisfied: packaging>=20.0 in /usr/local/lib/python3.10/dist-packages (from matplotlib->mlend) (23.2)\n",
            "Requirement already satisfied: pillow>=6.2.0 in /usr/local/lib/python3.10/dist-packages (from matplotlib->mlend) (9.4.0)\n",
            "Requirement already satisfied: pyparsing>=2.3.1 in /usr/local/lib/python3.10/dist-packages (from matplotlib->mlend) (3.1.1)\n",
            "Requirement already satisfied: python-dateutil>=2.7 in /usr/local/lib/python3.10/dist-packages (from matplotlib->mlend) (2.8.2)\n",
            "Requirement already satisfied: pytz>=2020.1 in /usr/local/lib/python3.10/dist-packages (from pandas->mlend) (2023.4)\n",
            "Requirement already satisfied: six>=1.5 in /usr/local/lib/python3.10/dist-packages (from python-dateutil>=2.7->matplotlib->mlend) (1.16.0)\n",
            "Requirement already satisfied: numexpr in /usr/local/lib/python3.10/dist-packages (from python-picard->spkit>0.0.9.5->mlend) (2.9.0)\n",
            "Requirement already satisfied: threadpoolctl>=2.0.0 in /usr/local/lib/python3.10/dist-packages (from scikit-learn->spkit>0.0.9.5->mlend) (3.3.0)\n"
          ]
        }
      ],
      "source": [
        "!pip install mlend"
      ]
    },
    {
      "cell_type": "code",
      "execution_count": null,
      "id": "21c4dbb1-3930-4d1f-ac23-3e9ac5eb15bf",
      "metadata": {
        "colab": {
          "base_uri": "https://localhost:8080/"
        },
        "id": "21c4dbb1-3930-4d1f-ac23-3e9ac5eb15bf",
        "outputId": "d6385784-055a-4eb6-bec7-beee07f6e387"
      },
      "outputs": [
        {
          "output_type": "stream",
          "name": "stdout",
          "text": [
            "Requirement already satisfied: opencv-python in /usr/local/lib/python3.10/dist-packages (4.8.0.76)\n",
            "Requirement already satisfied: numpy>=1.21.2 in /usr/local/lib/python3.10/dist-packages (from opencv-python) (1.25.2)\n"
          ]
        }
      ],
      "source": [
        "!pip install opencv-python"
      ]
    },
    {
      "cell_type": "code",
      "source": [
        "pip install tqdm\n"
      ],
      "metadata": {
        "colab": {
          "base_uri": "https://localhost:8080/"
        },
        "id": "6J2UVCgRafUd",
        "outputId": "be9c3863-e345-46ef-db88-64e83584e0d9"
      },
      "id": "6J2UVCgRafUd",
      "execution_count": null,
      "outputs": [
        {
          "output_type": "stream",
          "name": "stdout",
          "text": [
            "Requirement already satisfied: tqdm in /usr/local/lib/python3.10/dist-packages (4.66.2)\n"
          ]
        }
      ]
    },
    {
      "cell_type": "code",
      "source": [
        "!pip install imbalanced-learn"
      ],
      "metadata": {
        "colab": {
          "base_uri": "https://localhost:8080/"
        },
        "id": "hAalVIBv1eVt",
        "outputId": "cae2cc0f-678b-46a3-dd05-e8d234e0a514"
      },
      "id": "hAalVIBv1eVt",
      "execution_count": null,
      "outputs": [
        {
          "output_type": "stream",
          "name": "stdout",
          "text": [
            "Requirement already satisfied: imbalanced-learn in /usr/local/lib/python3.10/dist-packages (0.10.1)\n",
            "Requirement already satisfied: numpy>=1.17.3 in /usr/local/lib/python3.10/dist-packages (from imbalanced-learn) (1.25.2)\n",
            "Requirement already satisfied: scipy>=1.3.2 in /usr/local/lib/python3.10/dist-packages (from imbalanced-learn) (1.11.4)\n",
            "Requirement already satisfied: scikit-learn>=1.0.2 in /usr/local/lib/python3.10/dist-packages (from imbalanced-learn) (1.2.2)\n",
            "Requirement already satisfied: joblib>=1.1.1 in /usr/local/lib/python3.10/dist-packages (from imbalanced-learn) (1.3.2)\n",
            "Requirement already satisfied: threadpoolctl>=2.0.0 in /usr/local/lib/python3.10/dist-packages (from imbalanced-learn) (3.3.0)\n"
          ]
        }
      ]
    },
    {
      "cell_type": "code",
      "execution_count": null,
      "id": "052638a1-0889-429c-93e1-a7884e0125eb",
      "metadata": {
        "id": "052638a1-0889-429c-93e1-a7884e0125eb"
      },
      "outputs": [],
      "source": [
        "import mlend\n",
        "from mlend import download_yummy, yummy_load\n",
        "\n",
        "import pandas as pd\n",
        "import numpy as np\n",
        "import matplotlib.pyplot as plt\n",
        "import seaborn as sns\n",
        "import os\n",
        "import shutil\n",
        "import glob\n",
        "from tqdm import tqdm\n",
        "from imblearn.over_sampling import SMOTE\n",
        "\n",
        "from sklearn.preprocessing import StandardScaler\n",
        "from sklearn.svm import SVC\n",
        "from sklearn.ensemble import RandomForestClassifier\n",
        "from sklearn.tree import plot_tree\n",
        "from sklearn.model_selection import train_test_split\n",
        "from sklearn.metrics import accuracy_score, f1_score, confusion_matrix, precision_score, recall_score, roc_curve\n",
        "\n",
        "from skimage.feature import ORB\n",
        "from skimage.feature import graycomatrix, graycoprops\n",
        "from skimage import exposure\n",
        "from skimage.color import rgb2hsv, rgb2gray\n",
        "from skimage import transform as sp_transform\n",
        "import cv2"
      ]
    },
    {
      "cell_type": "code",
      "source": [
        "from google.colab import drive"
      ],
      "metadata": {
        "id": "AQjACOwX2N_n"
      },
      "id": "AQjACOwX2N_n",
      "execution_count": null,
      "outputs": []
    },
    {
      "cell_type": "code",
      "source": [
        "drive.mount('/content/drive')"
      ],
      "metadata": {
        "colab": {
          "base_uri": "https://localhost:8080/"
        },
        "id": "ycGkxRjf2Q9d",
        "outputId": "71a2d418-5116-461e-ad42-7dccc23bf3d5"
      },
      "id": "ycGkxRjf2Q9d",
      "execution_count": null,
      "outputs": [
        {
          "output_type": "stream",
          "name": "stdout",
          "text": [
            "Drive already mounted at /content/drive; to attempt to forcibly remount, call drive.mount(\"/content/drive\", force_remount=True).\n"
          ]
        }
      ]
    },
    {
      "cell_type": "code",
      "execution_count": null,
      "id": "f25568da-fee0-4579-a4fa-044ca072e501",
      "metadata": {
        "colab": {
          "base_uri": "https://localhost:8080/"
        },
        "id": "f25568da-fee0-4579-a4fa-044ca072e501",
        "outputId": "827b8e71-837c-463b-a891-2cdb1956571f"
      },
      "outputs": [
        {
          "output_type": "stream",
          "name": "stdout",
          "text": [
            "Downloading 3250 image files from https://github.com/MLEndDatasets/Yummy\n",
            "100%|\u001b[0m▓▓▓▓▓▓▓▓▓▓▓▓▓▓▓▓▓▓▓▓▓▓▓▓▓▓▓▓▓▓▓▓▓▓▓▓▓▓▓▓▓▓▓▓▓▓▓▓▓▓\u001b[0m|3250\\3250|003250.jpg\n",
            "Done!\n"
          ]
        }
      ],
      "source": [
        "datadir = download_yummy(save_to = '/content/drive/MyDrive/Data/MLEnd/full', verbose=1, overwrite=False)"
      ]
    },
    {
      "cell_type": "code",
      "execution_count": null,
      "id": "ca724c11-6ac4-4a16-b08d-f62fb1af3e2f",
      "metadata": {
        "id": "ca724c11-6ac4-4a16-b08d-f62fb1af3e2f"
      },
      "outputs": [],
      "source": [
        "MLENDYD_df = pd.read_csv('/content/drive/MyDrive/Data/MLEnd/full/yummy/MLEndYD_image_attributes_benchmark.csv').set_index('filename')"
      ]
    },
    {
      "cell_type": "code",
      "execution_count": null,
      "id": "25b5845c-d598-4e70-910d-c6a8b2a834e8",
      "metadata": {
        "colab": {
          "base_uri": "https://localhost:8080/",
          "height": 475
        },
        "id": "25b5845c-d598-4e70-910d-c6a8b2a834e8",
        "outputId": "5ded84af-1631-44e1-c436-07f8ecae0714"
      },
      "outputs": [
        {
          "output_type": "execute_result",
          "data": {
            "text/plain": [
              "                      Diet Cuisine_org   Cuisine  \\\n",
              "filename                                           \n",
              "000001.jpg  non_vegetarian    japanese  japanese   \n",
              "000002.jpg  non_vegetarian     english   english   \n",
              "000003.jpg  non_vegetarian     chinese   chinese   \n",
              "000004.jpg      vegetarian      indian    indian   \n",
              "000005.jpg  non_vegetarian      indian    indian   \n",
              "...                    ...         ...       ...   \n",
              "003246.jpg      vegetarian      indian    indian   \n",
              "003247.jpg      vegetarian      indian    indian   \n",
              "003248.jpg      vegetarian      indian    indian   \n",
              "003249.jpg           vegan      indian    indian   \n",
              "003250.jpg  non_vegetarian    american  american   \n",
              "\n",
              "                                   Dish_name     Home_or_restaurant  \\\n",
              "filename                                                              \n",
              "000001.jpg                chicken_katsu_rice          marugame_udon   \n",
              "000002.jpg                 english_breakfast                   home   \n",
              "000003.jpg                     spicy_chicken  jinli_flagship_branch   \n",
              "000004.jpg                       gulab_jamun                   home   \n",
              "000005.jpg                    chicken_masala                   home   \n",
              "...                                      ...                    ...   \n",
              "003246.jpg                        zeera_rice                   home   \n",
              "003247.jpg                    paneer_and_dal                   home   \n",
              "003248.jpg                            samosa                   home   \n",
              "003249.jpg                        fruit_milk                   home   \n",
              "003250.jpg  beef_burger_with_onion_and_salad                   home   \n",
              "\n",
              "                                                  Ingredients  \\\n",
              "filename                                                        \n",
              "000001.jpg              rice,chicken_breast,spicy_curry_sauce   \n",
              "000002.jpg  eggs,bacon,hash_brown,tomato,bread,tomato,bake...   \n",
              "000003.jpg  chili,chicken,peanuts,sihuan_peppercorns,green...   \n",
              "000004.jpg      sugar,water,khoya,milk,salt,oil,cardamon,ghee   \n",
              "000005.jpg  chicken,lemon,turmeric,garam_masala,coriander_...   \n",
              "...                                                       ...   \n",
              "003246.jpg  1_cup_basmati_rice,2_cups_water,2_tablespoons_...   \n",
              "003247.jpg  fried_cottage_cheese,ghee,lentils,milk,wheat_f...   \n",
              "003248.jpg  potato,onion,peanut,salt,turmeric_powder,red_c...   \n",
              "003249.jpg                             kiwi,banana,apple,milk   \n",
              "003250.jpg   beef_patty,bread_roll,cherry_tomato,_onion,chive   \n",
              "\n",
              "           Healthiness_rating  Healthiness_rating_int       Likeness  \\\n",
              "filename                                                               \n",
              "000001.jpg            neutral                     3.0           like   \n",
              "000002.jpg          unhealthy                     2.0           like   \n",
              "000003.jpg            neutral                     3.0  strongly_like   \n",
              "000004.jpg          unhealthy                     2.0  strongly_like   \n",
              "000005.jpg            healthy                     4.0  strongly_like   \n",
              "...                       ...                     ...            ...   \n",
              "003246.jpg            healthy                     4.0  strongly_like   \n",
              "003247.jpg            healthy                     4.0  strongly_like   \n",
              "003248.jpg     very_unhealthy                     1.0           like   \n",
              "003249.jpg       very_healthy                     5.0  strongly_like   \n",
              "003250.jpg            neutral                     3.0           like   \n",
              "\n",
              "            Likeness_int Benchmark_A  \n",
              "filename                              \n",
              "000001.jpg           4.0       Train  \n",
              "000002.jpg           4.0       Train  \n",
              "000003.jpg           5.0       Train  \n",
              "000004.jpg           5.0       Train  \n",
              "000005.jpg           5.0       Train  \n",
              "...                  ...         ...  \n",
              "003246.jpg           5.0       Train  \n",
              "003247.jpg           5.0        Test  \n",
              "003248.jpg           4.0        Test  \n",
              "003249.jpg           5.0       Train  \n",
              "003250.jpg           4.0       Train  \n",
              "\n",
              "[3250 rows x 11 columns]"
            ],
            "text/html": [
              "\n",
              "  <div id=\"df-fb436ccf-3f03-483c-8735-b5c31a0cdf75\" class=\"colab-df-container\">\n",
              "    <div>\n",
              "<style scoped>\n",
              "    .dataframe tbody tr th:only-of-type {\n",
              "        vertical-align: middle;\n",
              "    }\n",
              "\n",
              "    .dataframe tbody tr th {\n",
              "        vertical-align: top;\n",
              "    }\n",
              "\n",
              "    .dataframe thead th {\n",
              "        text-align: right;\n",
              "    }\n",
              "</style>\n",
              "<table border=\"1\" class=\"dataframe\">\n",
              "  <thead>\n",
              "    <tr style=\"text-align: right;\">\n",
              "      <th></th>\n",
              "      <th>Diet</th>\n",
              "      <th>Cuisine_org</th>\n",
              "      <th>Cuisine</th>\n",
              "      <th>Dish_name</th>\n",
              "      <th>Home_or_restaurant</th>\n",
              "      <th>Ingredients</th>\n",
              "      <th>Healthiness_rating</th>\n",
              "      <th>Healthiness_rating_int</th>\n",
              "      <th>Likeness</th>\n",
              "      <th>Likeness_int</th>\n",
              "      <th>Benchmark_A</th>\n",
              "    </tr>\n",
              "    <tr>\n",
              "      <th>filename</th>\n",
              "      <th></th>\n",
              "      <th></th>\n",
              "      <th></th>\n",
              "      <th></th>\n",
              "      <th></th>\n",
              "      <th></th>\n",
              "      <th></th>\n",
              "      <th></th>\n",
              "      <th></th>\n",
              "      <th></th>\n",
              "      <th></th>\n",
              "    </tr>\n",
              "  </thead>\n",
              "  <tbody>\n",
              "    <tr>\n",
              "      <th>000001.jpg</th>\n",
              "      <td>non_vegetarian</td>\n",
              "      <td>japanese</td>\n",
              "      <td>japanese</td>\n",
              "      <td>chicken_katsu_rice</td>\n",
              "      <td>marugame_udon</td>\n",
              "      <td>rice,chicken_breast,spicy_curry_sauce</td>\n",
              "      <td>neutral</td>\n",
              "      <td>3.0</td>\n",
              "      <td>like</td>\n",
              "      <td>4.0</td>\n",
              "      <td>Train</td>\n",
              "    </tr>\n",
              "    <tr>\n",
              "      <th>000002.jpg</th>\n",
              "      <td>non_vegetarian</td>\n",
              "      <td>english</td>\n",
              "      <td>english</td>\n",
              "      <td>english_breakfast</td>\n",
              "      <td>home</td>\n",
              "      <td>eggs,bacon,hash_brown,tomato,bread,tomato,bake...</td>\n",
              "      <td>unhealthy</td>\n",
              "      <td>2.0</td>\n",
              "      <td>like</td>\n",
              "      <td>4.0</td>\n",
              "      <td>Train</td>\n",
              "    </tr>\n",
              "    <tr>\n",
              "      <th>000003.jpg</th>\n",
              "      <td>non_vegetarian</td>\n",
              "      <td>chinese</td>\n",
              "      <td>chinese</td>\n",
              "      <td>spicy_chicken</td>\n",
              "      <td>jinli_flagship_branch</td>\n",
              "      <td>chili,chicken,peanuts,sihuan_peppercorns,green...</td>\n",
              "      <td>neutral</td>\n",
              "      <td>3.0</td>\n",
              "      <td>strongly_like</td>\n",
              "      <td>5.0</td>\n",
              "      <td>Train</td>\n",
              "    </tr>\n",
              "    <tr>\n",
              "      <th>000004.jpg</th>\n",
              "      <td>vegetarian</td>\n",
              "      <td>indian</td>\n",
              "      <td>indian</td>\n",
              "      <td>gulab_jamun</td>\n",
              "      <td>home</td>\n",
              "      <td>sugar,water,khoya,milk,salt,oil,cardamon,ghee</td>\n",
              "      <td>unhealthy</td>\n",
              "      <td>2.0</td>\n",
              "      <td>strongly_like</td>\n",
              "      <td>5.0</td>\n",
              "      <td>Train</td>\n",
              "    </tr>\n",
              "    <tr>\n",
              "      <th>000005.jpg</th>\n",
              "      <td>non_vegetarian</td>\n",
              "      <td>indian</td>\n",
              "      <td>indian</td>\n",
              "      <td>chicken_masala</td>\n",
              "      <td>home</td>\n",
              "      <td>chicken,lemon,turmeric,garam_masala,coriander_...</td>\n",
              "      <td>healthy</td>\n",
              "      <td>4.0</td>\n",
              "      <td>strongly_like</td>\n",
              "      <td>5.0</td>\n",
              "      <td>Train</td>\n",
              "    </tr>\n",
              "    <tr>\n",
              "      <th>...</th>\n",
              "      <td>...</td>\n",
              "      <td>...</td>\n",
              "      <td>...</td>\n",
              "      <td>...</td>\n",
              "      <td>...</td>\n",
              "      <td>...</td>\n",
              "      <td>...</td>\n",
              "      <td>...</td>\n",
              "      <td>...</td>\n",
              "      <td>...</td>\n",
              "      <td>...</td>\n",
              "    </tr>\n",
              "    <tr>\n",
              "      <th>003246.jpg</th>\n",
              "      <td>vegetarian</td>\n",
              "      <td>indian</td>\n",
              "      <td>indian</td>\n",
              "      <td>zeera_rice</td>\n",
              "      <td>home</td>\n",
              "      <td>1_cup_basmati_rice,2_cups_water,2_tablespoons_...</td>\n",
              "      <td>healthy</td>\n",
              "      <td>4.0</td>\n",
              "      <td>strongly_like</td>\n",
              "      <td>5.0</td>\n",
              "      <td>Train</td>\n",
              "    </tr>\n",
              "    <tr>\n",
              "      <th>003247.jpg</th>\n",
              "      <td>vegetarian</td>\n",
              "      <td>indian</td>\n",
              "      <td>indian</td>\n",
              "      <td>paneer_and_dal</td>\n",
              "      <td>home</td>\n",
              "      <td>fried_cottage_cheese,ghee,lentils,milk,wheat_f...</td>\n",
              "      <td>healthy</td>\n",
              "      <td>4.0</td>\n",
              "      <td>strongly_like</td>\n",
              "      <td>5.0</td>\n",
              "      <td>Test</td>\n",
              "    </tr>\n",
              "    <tr>\n",
              "      <th>003248.jpg</th>\n",
              "      <td>vegetarian</td>\n",
              "      <td>indian</td>\n",
              "      <td>indian</td>\n",
              "      <td>samosa</td>\n",
              "      <td>home</td>\n",
              "      <td>potato,onion,peanut,salt,turmeric_powder,red_c...</td>\n",
              "      <td>very_unhealthy</td>\n",
              "      <td>1.0</td>\n",
              "      <td>like</td>\n",
              "      <td>4.0</td>\n",
              "      <td>Test</td>\n",
              "    </tr>\n",
              "    <tr>\n",
              "      <th>003249.jpg</th>\n",
              "      <td>vegan</td>\n",
              "      <td>indian</td>\n",
              "      <td>indian</td>\n",
              "      <td>fruit_milk</td>\n",
              "      <td>home</td>\n",
              "      <td>kiwi,banana,apple,milk</td>\n",
              "      <td>very_healthy</td>\n",
              "      <td>5.0</td>\n",
              "      <td>strongly_like</td>\n",
              "      <td>5.0</td>\n",
              "      <td>Train</td>\n",
              "    </tr>\n",
              "    <tr>\n",
              "      <th>003250.jpg</th>\n",
              "      <td>non_vegetarian</td>\n",
              "      <td>american</td>\n",
              "      <td>american</td>\n",
              "      <td>beef_burger_with_onion_and_salad</td>\n",
              "      <td>home</td>\n",
              "      <td>beef_patty,bread_roll,cherry_tomato,_onion,chive</td>\n",
              "      <td>neutral</td>\n",
              "      <td>3.0</td>\n",
              "      <td>like</td>\n",
              "      <td>4.0</td>\n",
              "      <td>Train</td>\n",
              "    </tr>\n",
              "  </tbody>\n",
              "</table>\n",
              "<p>3250 rows × 11 columns</p>\n",
              "</div>\n",
              "    <div class=\"colab-df-buttons\">\n",
              "\n",
              "  <div class=\"colab-df-container\">\n",
              "    <button class=\"colab-df-convert\" onclick=\"convertToInteractive('df-fb436ccf-3f03-483c-8735-b5c31a0cdf75')\"\n",
              "            title=\"Convert this dataframe to an interactive table.\"\n",
              "            style=\"display:none;\">\n",
              "\n",
              "  <svg xmlns=\"http://www.w3.org/2000/svg\" height=\"24px\" viewBox=\"0 -960 960 960\">\n",
              "    <path d=\"M120-120v-720h720v720H120Zm60-500h600v-160H180v160Zm220 220h160v-160H400v160Zm0 220h160v-160H400v160ZM180-400h160v-160H180v160Zm440 0h160v-160H620v160ZM180-180h160v-160H180v160Zm440 0h160v-160H620v160Z\"/>\n",
              "  </svg>\n",
              "    </button>\n",
              "\n",
              "  <style>\n",
              "    .colab-df-container {\n",
              "      display:flex;\n",
              "      gap: 12px;\n",
              "    }\n",
              "\n",
              "    .colab-df-convert {\n",
              "      background-color: #E8F0FE;\n",
              "      border: none;\n",
              "      border-radius: 50%;\n",
              "      cursor: pointer;\n",
              "      display: none;\n",
              "      fill: #1967D2;\n",
              "      height: 32px;\n",
              "      padding: 0 0 0 0;\n",
              "      width: 32px;\n",
              "    }\n",
              "\n",
              "    .colab-df-convert:hover {\n",
              "      background-color: #E2EBFA;\n",
              "      box-shadow: 0px 1px 2px rgba(60, 64, 67, 0.3), 0px 1px 3px 1px rgba(60, 64, 67, 0.15);\n",
              "      fill: #174EA6;\n",
              "    }\n",
              "\n",
              "    .colab-df-buttons div {\n",
              "      margin-bottom: 4px;\n",
              "    }\n",
              "\n",
              "    [theme=dark] .colab-df-convert {\n",
              "      background-color: #3B4455;\n",
              "      fill: #D2E3FC;\n",
              "    }\n",
              "\n",
              "    [theme=dark] .colab-df-convert:hover {\n",
              "      background-color: #434B5C;\n",
              "      box-shadow: 0px 1px 3px 1px rgba(0, 0, 0, 0.15);\n",
              "      filter: drop-shadow(0px 1px 2px rgba(0, 0, 0, 0.3));\n",
              "      fill: #FFFFFF;\n",
              "    }\n",
              "  </style>\n",
              "\n",
              "    <script>\n",
              "      const buttonEl =\n",
              "        document.querySelector('#df-fb436ccf-3f03-483c-8735-b5c31a0cdf75 button.colab-df-convert');\n",
              "      buttonEl.style.display =\n",
              "        google.colab.kernel.accessAllowed ? 'block' : 'none';\n",
              "\n",
              "      async function convertToInteractive(key) {\n",
              "        const element = document.querySelector('#df-fb436ccf-3f03-483c-8735-b5c31a0cdf75');\n",
              "        const dataTable =\n",
              "          await google.colab.kernel.invokeFunction('convertToInteractive',\n",
              "                                                    [key], {});\n",
              "        if (!dataTable) return;\n",
              "\n",
              "        const docLinkHtml = 'Like what you see? Visit the ' +\n",
              "          '<a target=\"_blank\" href=https://colab.research.google.com/notebooks/data_table.ipynb>data table notebook</a>'\n",
              "          + ' to learn more about interactive tables.';\n",
              "        element.innerHTML = '';\n",
              "        dataTable['output_type'] = 'display_data';\n",
              "        await google.colab.output.renderOutput(dataTable, element);\n",
              "        const docLink = document.createElement('div');\n",
              "        docLink.innerHTML = docLinkHtml;\n",
              "        element.appendChild(docLink);\n",
              "      }\n",
              "    </script>\n",
              "  </div>\n",
              "\n",
              "\n",
              "<div id=\"df-ea12831c-4e18-4dea-acf0-db7b4c557d48\">\n",
              "  <button class=\"colab-df-quickchart\" onclick=\"quickchart('df-ea12831c-4e18-4dea-acf0-db7b4c557d48')\"\n",
              "            title=\"Suggest charts\"\n",
              "            style=\"display:none;\">\n",
              "\n",
              "<svg xmlns=\"http://www.w3.org/2000/svg\" height=\"24px\"viewBox=\"0 0 24 24\"\n",
              "     width=\"24px\">\n",
              "    <g>\n",
              "        <path d=\"M19 3H5c-1.1 0-2 .9-2 2v14c0 1.1.9 2 2 2h14c1.1 0 2-.9 2-2V5c0-1.1-.9-2-2-2zM9 17H7v-7h2v7zm4 0h-2V7h2v10zm4 0h-2v-4h2v4z\"/>\n",
              "    </g>\n",
              "</svg>\n",
              "  </button>\n",
              "\n",
              "<style>\n",
              "  .colab-df-quickchart {\n",
              "      --bg-color: #E8F0FE;\n",
              "      --fill-color: #1967D2;\n",
              "      --hover-bg-color: #E2EBFA;\n",
              "      --hover-fill-color: #174EA6;\n",
              "      --disabled-fill-color: #AAA;\n",
              "      --disabled-bg-color: #DDD;\n",
              "  }\n",
              "\n",
              "  [theme=dark] .colab-df-quickchart {\n",
              "      --bg-color: #3B4455;\n",
              "      --fill-color: #D2E3FC;\n",
              "      --hover-bg-color: #434B5C;\n",
              "      --hover-fill-color: #FFFFFF;\n",
              "      --disabled-bg-color: #3B4455;\n",
              "      --disabled-fill-color: #666;\n",
              "  }\n",
              "\n",
              "  .colab-df-quickchart {\n",
              "    background-color: var(--bg-color);\n",
              "    border: none;\n",
              "    border-radius: 50%;\n",
              "    cursor: pointer;\n",
              "    display: none;\n",
              "    fill: var(--fill-color);\n",
              "    height: 32px;\n",
              "    padding: 0;\n",
              "    width: 32px;\n",
              "  }\n",
              "\n",
              "  .colab-df-quickchart:hover {\n",
              "    background-color: var(--hover-bg-color);\n",
              "    box-shadow: 0 1px 2px rgba(60, 64, 67, 0.3), 0 1px 3px 1px rgba(60, 64, 67, 0.15);\n",
              "    fill: var(--button-hover-fill-color);\n",
              "  }\n",
              "\n",
              "  .colab-df-quickchart-complete:disabled,\n",
              "  .colab-df-quickchart-complete:disabled:hover {\n",
              "    background-color: var(--disabled-bg-color);\n",
              "    fill: var(--disabled-fill-color);\n",
              "    box-shadow: none;\n",
              "  }\n",
              "\n",
              "  .colab-df-spinner {\n",
              "    border: 2px solid var(--fill-color);\n",
              "    border-color: transparent;\n",
              "    border-bottom-color: var(--fill-color);\n",
              "    animation:\n",
              "      spin 1s steps(1) infinite;\n",
              "  }\n",
              "\n",
              "  @keyframes spin {\n",
              "    0% {\n",
              "      border-color: transparent;\n",
              "      border-bottom-color: var(--fill-color);\n",
              "      border-left-color: var(--fill-color);\n",
              "    }\n",
              "    20% {\n",
              "      border-color: transparent;\n",
              "      border-left-color: var(--fill-color);\n",
              "      border-top-color: var(--fill-color);\n",
              "    }\n",
              "    30% {\n",
              "      border-color: transparent;\n",
              "      border-left-color: var(--fill-color);\n",
              "      border-top-color: var(--fill-color);\n",
              "      border-right-color: var(--fill-color);\n",
              "    }\n",
              "    40% {\n",
              "      border-color: transparent;\n",
              "      border-right-color: var(--fill-color);\n",
              "      border-top-color: var(--fill-color);\n",
              "    }\n",
              "    60% {\n",
              "      border-color: transparent;\n",
              "      border-right-color: var(--fill-color);\n",
              "    }\n",
              "    80% {\n",
              "      border-color: transparent;\n",
              "      border-right-color: var(--fill-color);\n",
              "      border-bottom-color: var(--fill-color);\n",
              "    }\n",
              "    90% {\n",
              "      border-color: transparent;\n",
              "      border-bottom-color: var(--fill-color);\n",
              "    }\n",
              "  }\n",
              "</style>\n",
              "\n",
              "  <script>\n",
              "    async function quickchart(key) {\n",
              "      const quickchartButtonEl =\n",
              "        document.querySelector('#' + key + ' button');\n",
              "      quickchartButtonEl.disabled = true;  // To prevent multiple clicks.\n",
              "      quickchartButtonEl.classList.add('colab-df-spinner');\n",
              "      try {\n",
              "        const charts = await google.colab.kernel.invokeFunction(\n",
              "            'suggestCharts', [key], {});\n",
              "      } catch (error) {\n",
              "        console.error('Error during call to suggestCharts:', error);\n",
              "      }\n",
              "      quickchartButtonEl.classList.remove('colab-df-spinner');\n",
              "      quickchartButtonEl.classList.add('colab-df-quickchart-complete');\n",
              "    }\n",
              "    (() => {\n",
              "      let quickchartButtonEl =\n",
              "        document.querySelector('#df-ea12831c-4e18-4dea-acf0-db7b4c557d48 button');\n",
              "      quickchartButtonEl.style.display =\n",
              "        google.colab.kernel.accessAllowed ? 'block' : 'none';\n",
              "    })();\n",
              "  </script>\n",
              "</div>\n",
              "    </div>\n",
              "  </div>\n"
            ],
            "application/vnd.google.colaboratory.intrinsic+json": {
              "type": "dataframe",
              "variable_name": "MLENDYD_df",
              "summary": "{\n  \"name\": \"MLENDYD_df\",\n  \"rows\": 3250,\n  \"fields\": [\n    {\n      \"column\": \"Diet\",\n      \"properties\": {\n        \"dtype\": \"category\",\n        \"num_unique_values\": 3,\n        \"samples\": [\n          \"non_vegetarian\",\n          \"vegetarian\",\n          \"vegan\"\n        ],\n        \"semantic_type\": \"\",\n        \"description\": \"\"\n      }\n    },\n    {\n      \"column\": \"Cuisine_org\",\n      \"properties\": {\n        \"dtype\": \"category\",\n        \"num_unique_values\": 181,\n        \"samples\": [\n          \"western\",\n          \"lebanese\",\n          \"uzbek\"\n        ],\n        \"semantic_type\": \"\",\n        \"description\": \"\"\n      }\n    },\n    {\n      \"column\": \"Cuisine\",\n      \"properties\": {\n        \"dtype\": \"category\",\n        \"num_unique_values\": 128,\n        \"samples\": [\n          \"hungarian\",\n          \"german\",\n          \"western\"\n        ],\n        \"semantic_type\": \"\",\n        \"description\": \"\"\n      }\n    },\n    {\n      \"column\": \"Dish_name\",\n      \"properties\": {\n        \"dtype\": \"string\",\n        \"num_unique_values\": 2603,\n        \"samples\": [\n          \"channa\",\n          \"bread_fritters\",\n          \"oats_chilla\"\n        ],\n        \"semantic_type\": \"\",\n        \"description\": \"\"\n      }\n    },\n    {\n      \"column\": \"Home_or_restaurant\",\n      \"properties\": {\n        \"dtype\": \"category\",\n        \"num_unique_values\": 215,\n        \"samples\": [\n          \"ambala\",\n          \"pret_a_manger\",\n          \"pizzaexpress\"\n        ],\n        \"semantic_type\": \"\",\n        \"description\": \"\"\n      }\n    },\n    {\n      \"column\": \"Ingredients\",\n      \"properties\": {\n        \"dtype\": \"string\",\n        \"num_unique_values\": 3176,\n        \"samples\": [\n          \"paneer,warm_spices,tomato,capsicum,salt\",\n          \"duck_blood,tofu,shrimp_paste,bamboo_fungus,beef,chili,etc\",\n          \"chicken,oil_rice,chicken_spices\"\n        ],\n        \"semantic_type\": \"\",\n        \"description\": \"\"\n      }\n    },\n    {\n      \"column\": \"Healthiness_rating\",\n      \"properties\": {\n        \"dtype\": \"category\",\n        \"num_unique_values\": 5,\n        \"samples\": [\n          \"unhealthy\",\n          \"very_unhealthy\",\n          \"healthy\"\n        ],\n        \"semantic_type\": \"\",\n        \"description\": \"\"\n      }\n    },\n    {\n      \"column\": \"Healthiness_rating_int\",\n      \"properties\": {\n        \"dtype\": \"number\",\n        \"std\": 1.0661483974822863,\n        \"min\": 1.0,\n        \"max\": 5.0,\n        \"num_unique_values\": 5,\n        \"samples\": [\n          2.0,\n          1.0,\n          4.0\n        ],\n        \"semantic_type\": \"\",\n        \"description\": \"\"\n      }\n    },\n    {\n      \"column\": \"Likeness\",\n      \"properties\": {\n        \"dtype\": \"category\",\n        \"num_unique_values\": 5,\n        \"samples\": [\n          \"strongly_like\",\n          \"strongly_dislike\",\n          \"dislike\"\n        ],\n        \"semantic_type\": \"\",\n        \"description\": \"\"\n      }\n    },\n    {\n      \"column\": \"Likeness_int\",\n      \"properties\": {\n        \"dtype\": \"number\",\n        \"std\": 0.9370988567825984,\n        \"min\": 1.0,\n        \"max\": 5.0,\n        \"num_unique_values\": 5,\n        \"samples\": [\n          5.0,\n          1.0,\n          2.0\n        ],\n        \"semantic_type\": \"\",\n        \"description\": \"\"\n      }\n    },\n    {\n      \"column\": \"Benchmark_A\",\n      \"properties\": {\n        \"dtype\": \"category\",\n        \"num_unique_values\": 2,\n        \"samples\": [\n          \"Test\",\n          \"Train\"\n        ],\n        \"semantic_type\": \"\",\n        \"description\": \"\"\n      }\n    }\n  ]\n}"
            }
          },
          "metadata": {},
          "execution_count": 11
        }
      ],
      "source": [
        "MLENDYD_df"
      ]
    },
    {
      "cell_type": "markdown",
      "id": "5bc809f5-b05a-4ae6-a630-9a206e75b10c",
      "metadata": {
        "id": "5bc809f5-b05a-4ae6-a630-9a206e75b10c"
      },
      "source": [
        "The MLENDYD_ dataframe contains 3250 rows, therefore there is an equivalent number of pictures, and 11 columns. Only the ingredients column will be used for now"
      ]
    },
    {
      "cell_type": "code",
      "execution_count": null,
      "id": "1af83d29-d980-4685-8a74-9a8682ab8102",
      "metadata": {
        "id": "1af83d29-d980-4685-8a74-9a8682ab8102"
      },
      "outputs": [],
      "source": [
        "filtered_df = MLENDYD_df[MLENDYD_df['Ingredients'].str.contains('rice|chip|fries', case=False, na=False)]"
      ]
    },
    {
      "cell_type": "code",
      "source": [
        "len(filtered_df)"
      ],
      "metadata": {
        "colab": {
          "base_uri": "https://localhost:8080/"
        },
        "id": "LW_hw6XeA0BI",
        "outputId": "7f0db333-9fb9-4e9f-90bc-6d3cae00d94e"
      },
      "id": "LW_hw6XeA0BI",
      "execution_count": null,
      "outputs": [
        {
          "output_type": "execute_result",
          "data": {
            "text/plain": [
              "867"
            ]
          },
          "metadata": {},
          "execution_count": 13
        }
      ]
    },
    {
      "cell_type": "code",
      "execution_count": null,
      "id": "cca98a78-ef63-4ace-b2c2-2ca5adfb2412",
      "metadata": {
        "id": "cca98a78-ef63-4ace-b2c2-2ca5adfb2412"
      },
      "outputs": [],
      "source": [
        "check_chips = filtered_df[filtered_df['Ingredients'].str.contains('chips')]\n",
        "# check_chips"
      ]
    },
    {
      "cell_type": "markdown",
      "id": "53e4f01d-7f3a-4687-ac38-00d6959026dc",
      "metadata": {
        "id": "53e4f01d-7f3a-4687-ac38-00d6959026dc"
      },
      "source": [
        "Other types of 'chips' appear. In particular, chocolate chips. These need to be removed."
      ]
    },
    {
      "cell_type": "code",
      "execution_count": null,
      "id": "a70a0210-e86d-4ca8-8fd9-eb3ee9fd9116",
      "metadata": {
        "id": "a70a0210-e86d-4ca8-8fd9-eb3ee9fd9116"
      },
      "outputs": [],
      "source": [
        "choc_chip = filtered_df['Ingredients'].str.contains('choc|chocolate') & filtered_df['Ingredients'].str.contains('chip')\n",
        "rows_choc_chip= filtered_df[choc_chip]\n",
        "filtered_df = filtered_df.drop(rows_choc_chip.index)"
      ]
    },
    {
      "cell_type": "code",
      "source": [
        "len(filtered_df)"
      ],
      "metadata": {
        "colab": {
          "base_uri": "https://localhost:8080/"
        },
        "id": "tPXoWbTAA7p3",
        "outputId": "15f5ab3c-c7e8-4af8-e4ba-fc745558313e"
      },
      "id": "tPXoWbTAA7p3",
      "execution_count": null,
      "outputs": [
        {
          "output_type": "execute_result",
          "data": {
            "text/plain": [
              "858"
            ]
          },
          "metadata": {},
          "execution_count": 16
        }
      ]
    },
    {
      "cell_type": "code",
      "execution_count": null,
      "id": "9cdfe7da-8685-40ec-89e0-9d82ade5fd02",
      "metadata": {
        "colab": {
          "base_uri": "https://localhost:8080/"
        },
        "id": "9cdfe7da-8685-40ec-89e0-9d82ade5fd02",
        "outputId": "45be4d1f-f95d-4e7a-fe22-b303d6a15414"
      },
      "outputs": [
        {
          "output_type": "execute_result",
          "data": {
            "text/plain": [
              "Diet                      0\n",
              "Cuisine_org               0\n",
              "Cuisine                   0\n",
              "Dish_name                 0\n",
              "Home_or_restaurant        0\n",
              "Ingredients               0\n",
              "Healthiness_rating        1\n",
              "Healthiness_rating_int    1\n",
              "Likeness                  2\n",
              "Likeness_int              2\n",
              "Benchmark_A               0\n",
              "dtype: int64"
            ]
          },
          "metadata": {},
          "execution_count": 17
        }
      ],
      "source": [
        "filtered_df.isnull().sum()"
      ]
    },
    {
      "cell_type": "markdown",
      "id": "3725cd5b-033d-4edc-a8e6-9e48a1300e64",
      "metadata": {
        "id": "3725cd5b-033d-4edc-a8e6-9e48a1300e64"
      },
      "source": [
        "Rows containing null values will be removed. This should not affect our analysis as the size of the dataset is reasonable."
      ]
    },
    {
      "cell_type": "code",
      "execution_count": null,
      "id": "f8e7f0d2-f68e-49c0-ab82-ca4c14fa9f16",
      "metadata": {
        "id": "f8e7f0d2-f68e-49c0-ab82-ca4c14fa9f16"
      },
      "outputs": [],
      "source": [
        "rows_with_null = filtered_df[filtered_df.Healthiness_rating_int.isnull() | filtered_df.Likeness_int.isnull()]\n",
        "filtered_df = filtered_df.drop(rows_with_null.index)"
      ]
    },
    {
      "cell_type": "code",
      "source": [
        "filtered_df = filtered_df.drop(['Likeness', 'Healthiness_rating'], axis=1) #These are duplicated columns, providing strings instead of integers."
      ],
      "metadata": {
        "id": "4RbnrzeRBloZ"
      },
      "id": "4RbnrzeRBloZ",
      "execution_count": null,
      "outputs": []
    },
    {
      "cell_type": "code",
      "source": [
        "filtered_df"
      ],
      "metadata": {
        "colab": {
          "base_uri": "https://localhost:8080/",
          "height": 492
        },
        "id": "iFma_MndFQsV",
        "outputId": "23dcea88-5e44-4a34-c98e-865ce362ea95"
      },
      "id": "iFma_MndFQsV",
      "execution_count": null,
      "outputs": [
        {
          "output_type": "execute_result",
          "data": {
            "text/plain": [
              "                      Diet     Cuisine_org         Cuisine  \\\n",
              "filename                                                     \n",
              "000001.jpg  non_vegetarian        japanese        japanese   \n",
              "000016.jpg           vegan          indian          indian   \n",
              "000020.jpg      vegetarian          indian          indian   \n",
              "000021.jpg  non_vegetarian           asian           asian   \n",
              "000022.jpg      vegetarian          indian          indian   \n",
              "...                    ...             ...             ...   \n",
              "003235.jpg  non_vegetarian       singapore     singaporean   \n",
              "003236.jpg  non_vegetarian  german/turkish  german_turkish   \n",
              "003243.jpg      vegetarian         british         british   \n",
              "003244.jpg      vegetarian         italian         italian   \n",
              "003246.jpg      vegetarian          indian          indian   \n",
              "\n",
              "                                         Dish_name Home_or_restaurant  \\\n",
              "filename                                                                \n",
              "000001.jpg                      chicken_katsu_rice      marugame_udon   \n",
              "000016.jpg                                 khichdi               home   \n",
              "000020.jpg  lentil-based_vegetable_stew_with__rice               home   \n",
              "000021.jpg                                 biryani               home   \n",
              "000022.jpg                     rice_beetroot_curry               home   \n",
              "...                                            ...                ...   \n",
              "003235.jpg                 singapore_style_noodles               asda   \n",
              "003236.jpg                      german_doner_kebab                gdk   \n",
              "003243.jpg                pan-fried_beef_with_rice         restaurant   \n",
              "003244.jpg                                 khichdi               home   \n",
              "003246.jpg                              zeera_rice               home   \n",
              "\n",
              "                                                  Ingredients  \\\n",
              "filename                                                        \n",
              "000001.jpg              rice,chicken_breast,spicy_curry_sauce   \n",
              "000016.jpg                                  rice,spices,herbs   \n",
              "000020.jpg  ingredients:\\nfor_cooking_rice:\\n1_cup_rice_(a...   \n",
              "000021.jpg  mutton,rice,onion,tomato,red_chilli_powder,sal...   \n",
              "000022.jpg                          rice,beetroot,salt,spices   \n",
              "...                                                       ...   \n",
              "003235.jpg  cooked_rice_noodles,roasted_chicken,water,red_...   \n",
              "003236.jpg  lettuce,tomato,onion,red_cabbage,bread,yoghurt...   \n",
              "003243.jpg                         rice,corn,beef,red_cabbage   \n",
              "003244.jpg  rice,split_yellow_mung_beans,salt,cumin_seeds,...   \n",
              "003246.jpg  1_cup_basmati_rice,2_cups_water,2_tablespoons_...   \n",
              "\n",
              "            Healthiness_rating_int  Likeness_int Benchmark_A  \n",
              "filename                                                      \n",
              "000001.jpg                     3.0           4.0       Train  \n",
              "000016.jpg                     4.0           3.0        Test  \n",
              "000020.jpg                     4.0           4.0        Test  \n",
              "000021.jpg                     4.0           5.0       Train  \n",
              "000022.jpg                     5.0           3.0       Train  \n",
              "...                            ...           ...         ...  \n",
              "003235.jpg                     5.0           4.0        Test  \n",
              "003236.jpg                     2.0           5.0       Train  \n",
              "003243.jpg                     4.0           2.0       Train  \n",
              "003244.jpg                     4.0           3.0       Train  \n",
              "003246.jpg                     4.0           5.0       Train  \n",
              "\n",
              "[856 rows x 9 columns]"
            ],
            "text/html": [
              "\n",
              "  <div id=\"df-152b3e44-9488-4140-a644-b4c4ae298015\" class=\"colab-df-container\">\n",
              "    <div>\n",
              "<style scoped>\n",
              "    .dataframe tbody tr th:only-of-type {\n",
              "        vertical-align: middle;\n",
              "    }\n",
              "\n",
              "    .dataframe tbody tr th {\n",
              "        vertical-align: top;\n",
              "    }\n",
              "\n",
              "    .dataframe thead th {\n",
              "        text-align: right;\n",
              "    }\n",
              "</style>\n",
              "<table border=\"1\" class=\"dataframe\">\n",
              "  <thead>\n",
              "    <tr style=\"text-align: right;\">\n",
              "      <th></th>\n",
              "      <th>Diet</th>\n",
              "      <th>Cuisine_org</th>\n",
              "      <th>Cuisine</th>\n",
              "      <th>Dish_name</th>\n",
              "      <th>Home_or_restaurant</th>\n",
              "      <th>Ingredients</th>\n",
              "      <th>Healthiness_rating_int</th>\n",
              "      <th>Likeness_int</th>\n",
              "      <th>Benchmark_A</th>\n",
              "    </tr>\n",
              "    <tr>\n",
              "      <th>filename</th>\n",
              "      <th></th>\n",
              "      <th></th>\n",
              "      <th></th>\n",
              "      <th></th>\n",
              "      <th></th>\n",
              "      <th></th>\n",
              "      <th></th>\n",
              "      <th></th>\n",
              "      <th></th>\n",
              "    </tr>\n",
              "  </thead>\n",
              "  <tbody>\n",
              "    <tr>\n",
              "      <th>000001.jpg</th>\n",
              "      <td>non_vegetarian</td>\n",
              "      <td>japanese</td>\n",
              "      <td>japanese</td>\n",
              "      <td>chicken_katsu_rice</td>\n",
              "      <td>marugame_udon</td>\n",
              "      <td>rice,chicken_breast,spicy_curry_sauce</td>\n",
              "      <td>3.0</td>\n",
              "      <td>4.0</td>\n",
              "      <td>Train</td>\n",
              "    </tr>\n",
              "    <tr>\n",
              "      <th>000016.jpg</th>\n",
              "      <td>vegan</td>\n",
              "      <td>indian</td>\n",
              "      <td>indian</td>\n",
              "      <td>khichdi</td>\n",
              "      <td>home</td>\n",
              "      <td>rice,spices,herbs</td>\n",
              "      <td>4.0</td>\n",
              "      <td>3.0</td>\n",
              "      <td>Test</td>\n",
              "    </tr>\n",
              "    <tr>\n",
              "      <th>000020.jpg</th>\n",
              "      <td>vegetarian</td>\n",
              "      <td>indian</td>\n",
              "      <td>indian</td>\n",
              "      <td>lentil-based_vegetable_stew_with__rice</td>\n",
              "      <td>home</td>\n",
              "      <td>ingredients:\\nfor_cooking_rice:\\n1_cup_rice_(a...</td>\n",
              "      <td>4.0</td>\n",
              "      <td>4.0</td>\n",
              "      <td>Test</td>\n",
              "    </tr>\n",
              "    <tr>\n",
              "      <th>000021.jpg</th>\n",
              "      <td>non_vegetarian</td>\n",
              "      <td>asian</td>\n",
              "      <td>asian</td>\n",
              "      <td>biryani</td>\n",
              "      <td>home</td>\n",
              "      <td>mutton,rice,onion,tomato,red_chilli_powder,sal...</td>\n",
              "      <td>4.0</td>\n",
              "      <td>5.0</td>\n",
              "      <td>Train</td>\n",
              "    </tr>\n",
              "    <tr>\n",
              "      <th>000022.jpg</th>\n",
              "      <td>vegetarian</td>\n",
              "      <td>indian</td>\n",
              "      <td>indian</td>\n",
              "      <td>rice_beetroot_curry</td>\n",
              "      <td>home</td>\n",
              "      <td>rice,beetroot,salt,spices</td>\n",
              "      <td>5.0</td>\n",
              "      <td>3.0</td>\n",
              "      <td>Train</td>\n",
              "    </tr>\n",
              "    <tr>\n",
              "      <th>...</th>\n",
              "      <td>...</td>\n",
              "      <td>...</td>\n",
              "      <td>...</td>\n",
              "      <td>...</td>\n",
              "      <td>...</td>\n",
              "      <td>...</td>\n",
              "      <td>...</td>\n",
              "      <td>...</td>\n",
              "      <td>...</td>\n",
              "    </tr>\n",
              "    <tr>\n",
              "      <th>003235.jpg</th>\n",
              "      <td>non_vegetarian</td>\n",
              "      <td>singapore</td>\n",
              "      <td>singaporean</td>\n",
              "      <td>singapore_style_noodles</td>\n",
              "      <td>asda</td>\n",
              "      <td>cooked_rice_noodles,roasted_chicken,water,red_...</td>\n",
              "      <td>5.0</td>\n",
              "      <td>4.0</td>\n",
              "      <td>Test</td>\n",
              "    </tr>\n",
              "    <tr>\n",
              "      <th>003236.jpg</th>\n",
              "      <td>non_vegetarian</td>\n",
              "      <td>german/turkish</td>\n",
              "      <td>german_turkish</td>\n",
              "      <td>german_doner_kebab</td>\n",
              "      <td>gdk</td>\n",
              "      <td>lettuce,tomato,onion,red_cabbage,bread,yoghurt...</td>\n",
              "      <td>2.0</td>\n",
              "      <td>5.0</td>\n",
              "      <td>Train</td>\n",
              "    </tr>\n",
              "    <tr>\n",
              "      <th>003243.jpg</th>\n",
              "      <td>vegetarian</td>\n",
              "      <td>british</td>\n",
              "      <td>british</td>\n",
              "      <td>pan-fried_beef_with_rice</td>\n",
              "      <td>restaurant</td>\n",
              "      <td>rice,corn,beef,red_cabbage</td>\n",
              "      <td>4.0</td>\n",
              "      <td>2.0</td>\n",
              "      <td>Train</td>\n",
              "    </tr>\n",
              "    <tr>\n",
              "      <th>003244.jpg</th>\n",
              "      <td>vegetarian</td>\n",
              "      <td>italian</td>\n",
              "      <td>italian</td>\n",
              "      <td>khichdi</td>\n",
              "      <td>home</td>\n",
              "      <td>rice,split_yellow_mung_beans,salt,cumin_seeds,...</td>\n",
              "      <td>4.0</td>\n",
              "      <td>3.0</td>\n",
              "      <td>Train</td>\n",
              "    </tr>\n",
              "    <tr>\n",
              "      <th>003246.jpg</th>\n",
              "      <td>vegetarian</td>\n",
              "      <td>indian</td>\n",
              "      <td>indian</td>\n",
              "      <td>zeera_rice</td>\n",
              "      <td>home</td>\n",
              "      <td>1_cup_basmati_rice,2_cups_water,2_tablespoons_...</td>\n",
              "      <td>4.0</td>\n",
              "      <td>5.0</td>\n",
              "      <td>Train</td>\n",
              "    </tr>\n",
              "  </tbody>\n",
              "</table>\n",
              "<p>856 rows × 9 columns</p>\n",
              "</div>\n",
              "    <div class=\"colab-df-buttons\">\n",
              "\n",
              "  <div class=\"colab-df-container\">\n",
              "    <button class=\"colab-df-convert\" onclick=\"convertToInteractive('df-152b3e44-9488-4140-a644-b4c4ae298015')\"\n",
              "            title=\"Convert this dataframe to an interactive table.\"\n",
              "            style=\"display:none;\">\n",
              "\n",
              "  <svg xmlns=\"http://www.w3.org/2000/svg\" height=\"24px\" viewBox=\"0 -960 960 960\">\n",
              "    <path d=\"M120-120v-720h720v720H120Zm60-500h600v-160H180v160Zm220 220h160v-160H400v160Zm0 220h160v-160H400v160ZM180-400h160v-160H180v160Zm440 0h160v-160H620v160ZM180-180h160v-160H180v160Zm440 0h160v-160H620v160Z\"/>\n",
              "  </svg>\n",
              "    </button>\n",
              "\n",
              "  <style>\n",
              "    .colab-df-container {\n",
              "      display:flex;\n",
              "      gap: 12px;\n",
              "    }\n",
              "\n",
              "    .colab-df-convert {\n",
              "      background-color: #E8F0FE;\n",
              "      border: none;\n",
              "      border-radius: 50%;\n",
              "      cursor: pointer;\n",
              "      display: none;\n",
              "      fill: #1967D2;\n",
              "      height: 32px;\n",
              "      padding: 0 0 0 0;\n",
              "      width: 32px;\n",
              "    }\n",
              "\n",
              "    .colab-df-convert:hover {\n",
              "      background-color: #E2EBFA;\n",
              "      box-shadow: 0px 1px 2px rgba(60, 64, 67, 0.3), 0px 1px 3px 1px rgba(60, 64, 67, 0.15);\n",
              "      fill: #174EA6;\n",
              "    }\n",
              "\n",
              "    .colab-df-buttons div {\n",
              "      margin-bottom: 4px;\n",
              "    }\n",
              "\n",
              "    [theme=dark] .colab-df-convert {\n",
              "      background-color: #3B4455;\n",
              "      fill: #D2E3FC;\n",
              "    }\n",
              "\n",
              "    [theme=dark] .colab-df-convert:hover {\n",
              "      background-color: #434B5C;\n",
              "      box-shadow: 0px 1px 3px 1px rgba(0, 0, 0, 0.15);\n",
              "      filter: drop-shadow(0px 1px 2px rgba(0, 0, 0, 0.3));\n",
              "      fill: #FFFFFF;\n",
              "    }\n",
              "  </style>\n",
              "\n",
              "    <script>\n",
              "      const buttonEl =\n",
              "        document.querySelector('#df-152b3e44-9488-4140-a644-b4c4ae298015 button.colab-df-convert');\n",
              "      buttonEl.style.display =\n",
              "        google.colab.kernel.accessAllowed ? 'block' : 'none';\n",
              "\n",
              "      async function convertToInteractive(key) {\n",
              "        const element = document.querySelector('#df-152b3e44-9488-4140-a644-b4c4ae298015');\n",
              "        const dataTable =\n",
              "          await google.colab.kernel.invokeFunction('convertToInteractive',\n",
              "                                                    [key], {});\n",
              "        if (!dataTable) return;\n",
              "\n",
              "        const docLinkHtml = 'Like what you see? Visit the ' +\n",
              "          '<a target=\"_blank\" href=https://colab.research.google.com/notebooks/data_table.ipynb>data table notebook</a>'\n",
              "          + ' to learn more about interactive tables.';\n",
              "        element.innerHTML = '';\n",
              "        dataTable['output_type'] = 'display_data';\n",
              "        await google.colab.output.renderOutput(dataTable, element);\n",
              "        const docLink = document.createElement('div');\n",
              "        docLink.innerHTML = docLinkHtml;\n",
              "        element.appendChild(docLink);\n",
              "      }\n",
              "    </script>\n",
              "  </div>\n",
              "\n",
              "\n",
              "<div id=\"df-f3ddaa61-15a4-4b85-9606-146ea687eb22\">\n",
              "  <button class=\"colab-df-quickchart\" onclick=\"quickchart('df-f3ddaa61-15a4-4b85-9606-146ea687eb22')\"\n",
              "            title=\"Suggest charts\"\n",
              "            style=\"display:none;\">\n",
              "\n",
              "<svg xmlns=\"http://www.w3.org/2000/svg\" height=\"24px\"viewBox=\"0 0 24 24\"\n",
              "     width=\"24px\">\n",
              "    <g>\n",
              "        <path d=\"M19 3H5c-1.1 0-2 .9-2 2v14c0 1.1.9 2 2 2h14c1.1 0 2-.9 2-2V5c0-1.1-.9-2-2-2zM9 17H7v-7h2v7zm4 0h-2V7h2v10zm4 0h-2v-4h2v4z\"/>\n",
              "    </g>\n",
              "</svg>\n",
              "  </button>\n",
              "\n",
              "<style>\n",
              "  .colab-df-quickchart {\n",
              "      --bg-color: #E8F0FE;\n",
              "      --fill-color: #1967D2;\n",
              "      --hover-bg-color: #E2EBFA;\n",
              "      --hover-fill-color: #174EA6;\n",
              "      --disabled-fill-color: #AAA;\n",
              "      --disabled-bg-color: #DDD;\n",
              "  }\n",
              "\n",
              "  [theme=dark] .colab-df-quickchart {\n",
              "      --bg-color: #3B4455;\n",
              "      --fill-color: #D2E3FC;\n",
              "      --hover-bg-color: #434B5C;\n",
              "      --hover-fill-color: #FFFFFF;\n",
              "      --disabled-bg-color: #3B4455;\n",
              "      --disabled-fill-color: #666;\n",
              "  }\n",
              "\n",
              "  .colab-df-quickchart {\n",
              "    background-color: var(--bg-color);\n",
              "    border: none;\n",
              "    border-radius: 50%;\n",
              "    cursor: pointer;\n",
              "    display: none;\n",
              "    fill: var(--fill-color);\n",
              "    height: 32px;\n",
              "    padding: 0;\n",
              "    width: 32px;\n",
              "  }\n",
              "\n",
              "  .colab-df-quickchart:hover {\n",
              "    background-color: var(--hover-bg-color);\n",
              "    box-shadow: 0 1px 2px rgba(60, 64, 67, 0.3), 0 1px 3px 1px rgba(60, 64, 67, 0.15);\n",
              "    fill: var(--button-hover-fill-color);\n",
              "  }\n",
              "\n",
              "  .colab-df-quickchart-complete:disabled,\n",
              "  .colab-df-quickchart-complete:disabled:hover {\n",
              "    background-color: var(--disabled-bg-color);\n",
              "    fill: var(--disabled-fill-color);\n",
              "    box-shadow: none;\n",
              "  }\n",
              "\n",
              "  .colab-df-spinner {\n",
              "    border: 2px solid var(--fill-color);\n",
              "    border-color: transparent;\n",
              "    border-bottom-color: var(--fill-color);\n",
              "    animation:\n",
              "      spin 1s steps(1) infinite;\n",
              "  }\n",
              "\n",
              "  @keyframes spin {\n",
              "    0% {\n",
              "      border-color: transparent;\n",
              "      border-bottom-color: var(--fill-color);\n",
              "      border-left-color: var(--fill-color);\n",
              "    }\n",
              "    20% {\n",
              "      border-color: transparent;\n",
              "      border-left-color: var(--fill-color);\n",
              "      border-top-color: var(--fill-color);\n",
              "    }\n",
              "    30% {\n",
              "      border-color: transparent;\n",
              "      border-left-color: var(--fill-color);\n",
              "      border-top-color: var(--fill-color);\n",
              "      border-right-color: var(--fill-color);\n",
              "    }\n",
              "    40% {\n",
              "      border-color: transparent;\n",
              "      border-right-color: var(--fill-color);\n",
              "      border-top-color: var(--fill-color);\n",
              "    }\n",
              "    60% {\n",
              "      border-color: transparent;\n",
              "      border-right-color: var(--fill-color);\n",
              "    }\n",
              "    80% {\n",
              "      border-color: transparent;\n",
              "      border-right-color: var(--fill-color);\n",
              "      border-bottom-color: var(--fill-color);\n",
              "    }\n",
              "    90% {\n",
              "      border-color: transparent;\n",
              "      border-bottom-color: var(--fill-color);\n",
              "    }\n",
              "  }\n",
              "</style>\n",
              "\n",
              "  <script>\n",
              "    async function quickchart(key) {\n",
              "      const quickchartButtonEl =\n",
              "        document.querySelector('#' + key + ' button');\n",
              "      quickchartButtonEl.disabled = true;  // To prevent multiple clicks.\n",
              "      quickchartButtonEl.classList.add('colab-df-spinner');\n",
              "      try {\n",
              "        const charts = await google.colab.kernel.invokeFunction(\n",
              "            'suggestCharts', [key], {});\n",
              "      } catch (error) {\n",
              "        console.error('Error during call to suggestCharts:', error);\n",
              "      }\n",
              "      quickchartButtonEl.classList.remove('colab-df-spinner');\n",
              "      quickchartButtonEl.classList.add('colab-df-quickchart-complete');\n",
              "    }\n",
              "    (() => {\n",
              "      let quickchartButtonEl =\n",
              "        document.querySelector('#df-f3ddaa61-15a4-4b85-9606-146ea687eb22 button');\n",
              "      quickchartButtonEl.style.display =\n",
              "        google.colab.kernel.accessAllowed ? 'block' : 'none';\n",
              "    })();\n",
              "  </script>\n",
              "</div>\n",
              "    </div>\n",
              "  </div>\n"
            ],
            "application/vnd.google.colaboratory.intrinsic+json": {
              "type": "dataframe",
              "variable_name": "filtered_df",
              "summary": "{\n  \"name\": \"filtered_df\",\n  \"rows\": 856,\n  \"fields\": [\n    {\n      \"column\": \"Diet\",\n      \"properties\": {\n        \"dtype\": \"category\",\n        \"num_unique_values\": 3,\n        \"samples\": [\n          \"non_vegetarian\",\n          \"vegan\",\n          \"vegetarian\"\n        ],\n        \"semantic_type\": \"\",\n        \"description\": \"\"\n      }\n    },\n    {\n      \"column\": \"Cuisine_org\",\n      \"properties\": {\n        \"dtype\": \"category\",\n        \"num_unique_values\": 89,\n        \"samples\": [\n          \"jamaican\",\n          \"turkish\",\n          \"korean\"\n        ],\n        \"semantic_type\": \"\",\n        \"description\": \"\"\n      }\n    },\n    {\n      \"column\": \"Cuisine\",\n      \"properties\": {\n        \"dtype\": \"category\",\n        \"num_unique_values\": 75,\n        \"samples\": [\n          \"pakistani\",\n          \"goan_international\",\n          \"jordan\"\n        ],\n        \"semantic_type\": \"\",\n        \"description\": \"\"\n      }\n    },\n    {\n      \"column\": \"Dish_name\",\n      \"properties\": {\n        \"dtype\": \"string\",\n        \"num_unique_values\": 689,\n        \"samples\": [\n          \"shrimp_fried_rice\",\n          \"green_chilli_fritter\",\n          \"grilled_chicken_wrap\"\n        ],\n        \"semantic_type\": \"\",\n        \"description\": \"\"\n      }\n    },\n    {\n      \"column\": \"Home_or_restaurant\",\n      \"properties\": {\n        \"dtype\": \"category\",\n        \"num_unique_values\": 69,\n        \"samples\": [\n          \"yun_gui_chuan\",\n          \"marugame_udon\",\n          \"bui_vien\"\n        ],\n        \"semantic_type\": \"\",\n        \"description\": \"\"\n      }\n    },\n    {\n      \"column\": \"Ingredients\",\n      \"properties\": {\n        \"dtype\": \"string\",\n        \"num_unique_values\": 842,\n        \"samples\": [\n          \"chicken,bread_bun,fries,cheese,mayonaise\",\n          \"onion,garlic,chicken,courgette,carrot,celery,rice\",\n          \"rice,onion,red_kidney_beans,tomatoes,oil,spices,ginger_garlic,ghee\"\n        ],\n        \"semantic_type\": \"\",\n        \"description\": \"\"\n      }\n    },\n    {\n      \"column\": \"Healthiness_rating_int\",\n      \"properties\": {\n        \"dtype\": \"number\",\n        \"std\": 0.9566318828145747,\n        \"min\": 1.0,\n        \"max\": 5.0,\n        \"num_unique_values\": 5,\n        \"samples\": [\n          4.0,\n          1.0,\n          5.0\n        ],\n        \"semantic_type\": \"\",\n        \"description\": \"\"\n      }\n    },\n    {\n      \"column\": \"Likeness_int\",\n      \"properties\": {\n        \"dtype\": \"number\",\n        \"std\": 0.8991898486956893,\n        \"min\": 1.0,\n        \"max\": 5.0,\n        \"num_unique_values\": 5,\n        \"samples\": [\n          3.0,\n          1.0,\n          5.0\n        ],\n        \"semantic_type\": \"\",\n        \"description\": \"\"\n      }\n    },\n    {\n      \"column\": \"Benchmark_A\",\n      \"properties\": {\n        \"dtype\": \"category\",\n        \"num_unique_values\": 2,\n        \"samples\": [\n          \"Test\",\n          \"Train\"\n        ],\n        \"semantic_type\": \"\",\n        \"description\": \"\"\n      }\n    }\n  ]\n}"
            }
          },
          "metadata": {},
          "execution_count": 20
        }
      ]
    },
    {
      "cell_type": "markdown",
      "id": "74e5c5ab-7da4-4e40-bc5a-6eae8a59d742",
      "metadata": {
        "id": "74e5c5ab-7da4-4e40-bc5a-6eae8a59d742"
      },
      "source": [
        "Finally, the column that will be used as label is created."
      ]
    },
    {
      "cell_type": "code",
      "execution_count": null,
      "id": "0e00e0ae-5111-44c3-b5be-ff84891fa762",
      "metadata": {
        "id": "0e00e0ae-5111-44c3-b5be-ff84891fa762"
      },
      "outputs": [],
      "source": [
        "filtered_df['Rice_or_chips'] = np.where(filtered_df['Ingredients'].str.contains('chip'), 0, 1)"
      ]
    },
    {
      "cell_type": "code",
      "execution_count": null,
      "id": "b75c47fa-74d8-4445-bfc3-01840af75946",
      "metadata": {
        "id": "b75c47fa-74d8-4445-bfc3-01840af75946"
      },
      "outputs": [],
      "source": [
        "image_folder = '/content/drive/MyDrive/Data/MLEnd/full/yummy/filtered_images'\n",
        "\n",
        "os.makedirs(image_folder, exist_ok=True)\n",
        "\n",
        "image_files = filtered_df.index.tolist()\n",
        "\n",
        "image_paths = [os.path.join(image_folder, filename) for filename in image_files]\n"
      ]
    },
    {
      "cell_type": "code",
      "source": [
        "for filename in filtered_df.index:\n",
        "    original_path = os.path.join(datadir, 'MLEndYD_images', filename)\n",
        "    new_path = os.path.join(image_folder, filename)\n",
        "    shutil.copy(original_path, new_path)\n",
        "\n",
        "print(f\"Filtered images copied to: {image_folder}\")\n"
      ],
      "metadata": {
        "colab": {
          "base_uri": "https://localhost:8080/"
        },
        "id": "ZxnrlM24Hft2",
        "outputId": "320170d4-7605-4df9-8607-d04c08e073a2"
      },
      "id": "ZxnrlM24Hft2",
      "execution_count": null,
      "outputs": [
        {
          "output_type": "stream",
          "name": "stdout",
          "text": [
            "Filtered images copied to: /content/drive/MyDrive/Data/MLEnd/full/yummy/filtered_images\n"
          ]
        }
      ]
    },
    {
      "cell_type": "code",
      "source": [
        "# verifying the number of rows to the number of images in the folder created\n",
        "sample_path = '/content/drive/MyDrive/Data/MLEnd/full/yummy/filtered_images/*.jpg'\n",
        "files = glob.glob(sample_path)\n",
        "len(files)"
      ],
      "metadata": {
        "colab": {
          "base_uri": "https://localhost:8080/"
        },
        "id": "YCVrrctuIXrX",
        "outputId": "a591aabe-370f-4732-9c71-b383a7da2745"
      },
      "id": "YCVrrctuIXrX",
      "execution_count": null,
      "outputs": [
        {
          "output_type": "execute_result",
          "data": {
            "text/plain": [
              "856"
            ]
          },
          "metadata": {},
          "execution_count": 24
        }
      ]
    },
    {
      "cell_type": "markdown",
      "id": "eadd143f-be47-4678-8a9b-4012da064e24",
      "metadata": {
        "id": "eadd143f-be47-4678-8a9b-4012da064e24"
      },
      "source": [
        "# 3 Results"
      ]
    }
  ],
  "metadata": {
    "kernelspec": {
      "display_name": "Python 3 (ipykernel)",
      "language": "python",
      "name": "python3"
    },
    "language_info": {
      "codemirror_mode": {
        "name": "ipython",
        "version": 3
      },
      "file_extension": ".py",
      "mimetype": "text/x-python",
      "name": "python",
      "nbconvert_exporter": "python",
      "pygments_lexer": "ipython3",
      "version": "3.10.13"
    },
    "colab": {
      "provenance": [],
      "include_colab_link": true
    }
  },
  "nbformat": 4,
  "nbformat_minor": 5
}